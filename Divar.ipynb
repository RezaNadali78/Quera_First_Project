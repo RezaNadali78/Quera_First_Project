{
 "cells": [
  {
   "cell_type": "code",
   "execution_count": 132,
   "id": "49eea0bf",
   "metadata": {},
   "outputs": [],
   "source": [
    "import pandas as pd\n",
    "import numpy as np\n",
    "import matplotlib.pyplot as plt\n",
    "import seaborn as sns\n",
    "import jdatetime"
   ]
  },
  {
   "cell_type": "code",
   "execution_count": 133,
   "id": "32ee93cc",
   "metadata": {},
   "outputs": [
    {
     "name": "stderr",
     "output_type": "stream",
     "text": [
      "/tmp/ipykernel_216630/845404812.py:1: DtypeWarning: Columns (11,27,29,53) have mixed types. Specify dtype option on import or set low_memory=False.\n",
      "  divarDf = pd.read_csv(\"Divar.csv\")\n"
     ]
    }
   ],
   "source": [
    "divarDf = pd.read_csv(\"Divar.csv\")"
   ]
  },
  {
   "cell_type": "code",
   "execution_count": 134,
   "id": "a22b1f1d",
   "metadata": {},
   "outputs": [
    {
     "name": "stdout",
     "output_type": "stream",
     "text": [
      "divarDf.columns :  Index(['Unnamed: 0', 'cat2_slug', 'cat3_slug', 'city_slug',\n",
      "       'neighborhood_slug', 'created_at_month', 'user_type', 'description',\n",
      "       'title', 'rent_mode', 'rent_value', 'rent_to_single', 'rent_type',\n",
      "       'price_mode', 'price_value', 'credit_mode', 'credit_value',\n",
      "       'rent_credit_transform', 'transformable_price', 'transformable_credit',\n",
      "       'transformed_credit', 'transformable_rent', 'transformed_rent',\n",
      "       'land_size', 'building_size', 'deed_type', 'has_business_deed', 'floor',\n",
      "       'rooms_count', 'total_floors_count', 'unit_per_floor', 'has_balcony',\n",
      "       'has_elevator', 'has_warehouse', 'has_parking', 'construction_year',\n",
      "       'is_rebuilt', 'has_water', 'has_warm_water_provider', 'has_electricity',\n",
      "       'has_gas', 'has_heating_system', 'has_cooling_system', 'has_restroom',\n",
      "       'has_security_guard', 'has_barbecue', 'building_direction', 'has_pool',\n",
      "       'has_jacuzzi', 'has_sauna', 'floor_material', 'property_type',\n",
      "       'regular_person_capacity', 'extra_person_capacity',\n",
      "       'cost_per_extra_person', 'rent_price_on_regular_days',\n",
      "       'rent_price_on_special_days', 'rent_price_at_weekends',\n",
      "       'location_latitude', 'location_longitude', 'location_radius'],\n",
      "      dtype='object')\n",
      "divarDf.index :  RangeIndex(start=0, stop=1000000, step=1)\n"
     ]
    }
   ],
   "source": [
    "print(\"divarDf.columns : \",divarDf.columns)\n",
    "print(\"divarDf.index : \",divarDf.index)"
   ]
  },
  {
   "cell_type": "code",
   "execution_count": 135,
   "id": "f6b6f00a",
   "metadata": {},
   "outputs": [
    {
     "name": "stdout",
     "output_type": "stream",
     "text": [
      "divarDf.shape :  (1000000, 61)\n",
      "<class 'pandas.core.frame.DataFrame'>\n",
      "RangeIndex: 1000000 entries, 0 to 999999\n",
      "Data columns (total 61 columns):\n",
      " #   Column                      Non-Null Count    Dtype  \n",
      "---  ------                      --------------    -----  \n",
      " 0   Unnamed: 0                  1000000 non-null  int64  \n",
      " 1   cat2_slug                   1000000 non-null  object \n",
      " 2   cat3_slug                   999999 non-null   object \n",
      " 3   city_slug                   999998 non-null   object \n",
      " 4   neighborhood_slug           437139 non-null   object \n",
      " 5   created_at_month            1000000 non-null  object \n",
      " 6   user_type                   288882 non-null   object \n",
      " 7   description                 1000000 non-null  object \n",
      " 8   title                       999946 non-null   object \n",
      " 9   rent_mode                   352994 non-null   object \n",
      " 10  rent_value                  351322 non-null   float64\n",
      " 11  rent_to_single              19 non-null       object \n",
      " 12  rent_type                   103961 non-null   object \n",
      " 13  price_mode                  573606 non-null   object \n",
      " 14  price_value                 568346 non-null   float64\n",
      " 15  credit_mode                 352994 non-null   object \n",
      " 16  credit_value                352095 non-null   float64\n",
      " 17  rent_credit_transform       352985 non-null   object \n",
      " 18  transformable_price         352894 non-null   object \n",
      " 19  transformable_credit        352085 non-null   float64\n",
      " 20  transformed_credit          72409 non-null    float64\n",
      " 21  transformable_rent          351248 non-null   float64\n",
      " 22  transformed_rent            72409 non-null    float64\n",
      " 23  land_size                   186396 non-null   float64\n",
      " 24  building_size               980394 non-null   float64\n",
      " 25  deed_type                   253458 non-null   object \n",
      " 26  has_business_deed           34679 non-null    object \n",
      " 27  floor                       541748 non-null   object \n",
      " 28  rooms_count                 845899 non-null   object \n",
      " 29  total_floors_count          304352 non-null   object \n",
      " 30  unit_per_floor              302283 non-null   object \n",
      " 31  has_balcony                 506411 non-null   object \n",
      " 32  has_elevator                541749 non-null   object \n",
      " 33  has_warehouse               728155 non-null   object \n",
      " 34  has_parking                 728156 non-null   object \n",
      " 35  construction_year           815828 non-null   object \n",
      " 36  is_rebuilt                  529470 non-null   object \n",
      " 37  has_water                   33444 non-null    object \n",
      " 38  has_warm_water_provider     379500 non-null   object \n",
      " 39  has_electricity             33445 non-null    object \n",
      " 40  has_gas                     33430 non-null    object \n",
      " 41  has_heating_system          368969 non-null   object \n",
      " 42  has_cooling_system          350619 non-null   object \n",
      " 43  has_restroom                406913 non-null   object \n",
      " 44  has_security_guard          31312 non-null    object \n",
      " 45  has_barbecue                31198 non-null    object \n",
      " 46  building_direction          323923 non-null   object \n",
      " 47  has_pool                    29390 non-null    object \n",
      " 48  has_jacuzzi                 28728 non-null    object \n",
      " 49  has_sauna                   28479 non-null    object \n",
      " 50  floor_material              405984 non-null   object \n",
      " 51  property_type               27057 non-null    object \n",
      " 52  regular_person_capacity     29870 non-null    float64\n",
      " 53  extra_person_capacity       24009 non-null    object \n",
      " 54  cost_per_extra_person       10241 non-null    float64\n",
      " 55  rent_price_on_regular_days  18068 non-null    float64\n",
      " 56  rent_price_on_special_days  10463 non-null    float64\n",
      " 57  rent_price_at_weekends      13551 non-null    float64\n",
      " 58  location_latitude           655608 non-null   float64\n",
      " 59  location_longitude          655608 non-null   float64\n",
      " 60  location_radius             339699 non-null   float64\n",
      "dtypes: float64(17), int64(1), object(43)\n",
      "memory usage: 465.4+ MB\n",
      "divarDf.info() :  None\n"
     ]
    }
   ],
   "source": [
    "print(\"divarDf.shape : \",divarDf.shape)\n",
    "print(\"divarDf.info() : \",divarDf.info())"
   ]
  },
  {
   "cell_type": "code",
   "execution_count": 136,
   "id": "e36f01ce",
   "metadata": {},
   "outputs": [
    {
     "data": {
      "text/html": [
       "<div>\n",
       "<style scoped>\n",
       "    .dataframe tbody tr th:only-of-type {\n",
       "        vertical-align: middle;\n",
       "    }\n",
       "\n",
       "    .dataframe tbody tr th {\n",
       "        vertical-align: top;\n",
       "    }\n",
       "\n",
       "    .dataframe thead th {\n",
       "        text-align: right;\n",
       "    }\n",
       "</style>\n",
       "<table border=\"1\" class=\"dataframe\">\n",
       "  <thead>\n",
       "    <tr style=\"text-align: right;\">\n",
       "      <th></th>\n",
       "      <th>Unnamed: 0</th>\n",
       "      <th>cat2_slug</th>\n",
       "      <th>cat3_slug</th>\n",
       "      <th>city_slug</th>\n",
       "      <th>neighborhood_slug</th>\n",
       "      <th>created_at_month</th>\n",
       "      <th>user_type</th>\n",
       "      <th>description</th>\n",
       "      <th>title</th>\n",
       "      <th>rent_mode</th>\n",
       "      <th>...</th>\n",
       "      <th>property_type</th>\n",
       "      <th>regular_person_capacity</th>\n",
       "      <th>extra_person_capacity</th>\n",
       "      <th>cost_per_extra_person</th>\n",
       "      <th>rent_price_on_regular_days</th>\n",
       "      <th>rent_price_on_special_days</th>\n",
       "      <th>rent_price_at_weekends</th>\n",
       "      <th>location_latitude</th>\n",
       "      <th>location_longitude</th>\n",
       "      <th>location_radius</th>\n",
       "    </tr>\n",
       "  </thead>\n",
       "  <tbody>\n",
       "    <tr>\n",
       "      <th>0</th>\n",
       "      <td>0</td>\n",
       "      <td>temporary-rent</td>\n",
       "      <td>villa</td>\n",
       "      <td>karaj</td>\n",
       "      <td>mehrshahr</td>\n",
       "      <td>2024-08-01 00:00:00</td>\n",
       "      <td>مشاور املاک</td>\n",
       "      <td>۵۰۰متر\\n۲۰۰متر بنا دوبلکس\\n۳خواب\\nاستخر آبگرم ...</td>\n",
       "      <td>باغ ویلا اجاره روزانه استخر داخل لشکرآباد سهیلیه</td>\n",
       "      <td>NaN</td>\n",
       "      <td>...</td>\n",
       "      <td>NaN</td>\n",
       "      <td>4.0</td>\n",
       "      <td>6</td>\n",
       "      <td>350000.0</td>\n",
       "      <td>1500000.0</td>\n",
       "      <td>3.500000e+09</td>\n",
       "      <td>3500000.0</td>\n",
       "      <td>35.811684</td>\n",
       "      <td>50.9366</td>\n",
       "      <td>500.0</td>\n",
       "    </tr>\n",
       "    <tr>\n",
       "      <th>1</th>\n",
       "      <td>1</td>\n",
       "      <td>residential-sell</td>\n",
       "      <td>apartment-sell</td>\n",
       "      <td>tehran</td>\n",
       "      <td>gholhak</td>\n",
       "      <td>2024-05-01 00:00:00</td>\n",
       "      <td>مشاور املاک</td>\n",
       "      <td>دسترسی عالی به مترو و شریعتی \\nمشاعات تمیز \\nب...</td>\n",
       "      <td>۶۰ متر قلهک فول امکانات</td>\n",
       "      <td>NaN</td>\n",
       "      <td>...</td>\n",
       "      <td>NaN</td>\n",
       "      <td>NaN</td>\n",
       "      <td>NaN</td>\n",
       "      <td>NaN</td>\n",
       "      <td>NaN</td>\n",
       "      <td>NaN</td>\n",
       "      <td>NaN</td>\n",
       "      <td>NaN</td>\n",
       "      <td>NaN</td>\n",
       "      <td>500.0</td>\n",
       "    </tr>\n",
       "  </tbody>\n",
       "</table>\n",
       "<p>2 rows × 61 columns</p>\n",
       "</div>"
      ],
      "text/plain": [
       "   Unnamed: 0         cat2_slug       cat3_slug city_slug neighborhood_slug  \\\n",
       "0           0    temporary-rent           villa     karaj         mehrshahr   \n",
       "1           1  residential-sell  apartment-sell    tehran           gholhak   \n",
       "\n",
       "      created_at_month    user_type  \\\n",
       "0  2024-08-01 00:00:00  مشاور املاک   \n",
       "1  2024-05-01 00:00:00  مشاور املاک   \n",
       "\n",
       "                                         description  \\\n",
       "0  ۵۰۰متر\\n۲۰۰متر بنا دوبلکس\\n۳خواب\\nاستخر آبگرم ...   \n",
       "1  دسترسی عالی به مترو و شریعتی \\nمشاعات تمیز \\nب...   \n",
       "\n",
       "                                              title rent_mode  ...  \\\n",
       "0  باغ ویلا اجاره روزانه استخر داخل لشکرآباد سهیلیه       NaN  ...   \n",
       "1                           ۶۰ متر قلهک فول امکانات       NaN  ...   \n",
       "\n",
       "   property_type regular_person_capacity extra_person_capacity  \\\n",
       "0            NaN                     4.0                     6   \n",
       "1            NaN                     NaN                   NaN   \n",
       "\n",
       "  cost_per_extra_person  rent_price_on_regular_days  \\\n",
       "0              350000.0                   1500000.0   \n",
       "1                   NaN                         NaN   \n",
       "\n",
       "  rent_price_on_special_days  rent_price_at_weekends location_latitude  \\\n",
       "0               3.500000e+09               3500000.0         35.811684   \n",
       "1                        NaN                     NaN               NaN   \n",
       "\n",
       "  location_longitude  location_radius  \n",
       "0            50.9366            500.0  \n",
       "1                NaN            500.0  \n",
       "\n",
       "[2 rows x 61 columns]"
      ]
     },
     "execution_count": 136,
     "metadata": {},
     "output_type": "execute_result"
    }
   ],
   "source": [
    "divarDf.head(2)"
   ]
  },
  {
   "cell_type": "markdown",
   "id": "b7d3183c",
   "metadata": {},
   "source": [
    "<h3><b>Step 1: Dropping the 'Unnamed: 0' Column</b></h3>"
   ]
  },
  {
   "cell_type": "code",
   "execution_count": 137,
   "id": "09812422",
   "metadata": {},
   "outputs": [
    {
     "name": "stdout",
     "output_type": "stream",
     "text": [
      "divarDf_dropUnnamed.columns after dropping 'Unnamed: 0':\n",
      "Index(['cat2_slug', 'cat3_slug', 'city_slug', 'neighborhood_slug',\n",
      "       'created_at_month', 'user_type', 'description', 'title', 'rent_mode',\n",
      "       'rent_value', 'rent_to_single', 'rent_type', 'price_mode',\n",
      "       'price_value', 'credit_mode', 'credit_value', 'rent_credit_transform',\n",
      "       'transformable_price', 'transformable_credit', 'transformed_credit',\n",
      "       'transformable_rent', 'transformed_rent', 'land_size', 'building_size',\n",
      "       'deed_type', 'has_business_deed', 'floor', 'rooms_count',\n",
      "       'total_floors_count', 'unit_per_floor', 'has_balcony', 'has_elevator',\n",
      "       'has_warehouse', 'has_parking', 'construction_year', 'is_rebuilt',\n",
      "       'has_water', 'has_warm_water_provider', 'has_electricity', 'has_gas',\n",
      "       'has_heating_system', 'has_cooling_system', 'has_restroom',\n",
      "       'has_security_guard', 'has_barbecue', 'building_direction', 'has_pool',\n",
      "       'has_jacuzzi', 'has_sauna', 'floor_material', 'property_type',\n",
      "       'regular_person_capacity', 'extra_person_capacity',\n",
      "       'cost_per_extra_person', 'rent_price_on_regular_days',\n",
      "       'rent_price_on_special_days', 'rent_price_at_weekends',\n",
      "       'location_latitude', 'location_longitude', 'location_radius'],\n",
      "      dtype='object')\n"
     ]
    }
   ],
   "source": [
    "# Drop the 'Unnamed: 0' column\n",
    "divarDf_dropUnnamed = divarDf.copy()\n",
    "divarDf_dropUnnamed.drop('Unnamed: 0', axis=1 , inplace=True)\n",
    "\n",
    "print(\"divarDf_dropUnnamed.columns after dropping 'Unnamed: 0':\")\n",
    "print(divarDf_dropUnnamed.columns)"
   ]
  },
  {
   "cell_type": "markdown",
   "id": "122a5911",
   "metadata": {},
   "source": [
    "<h3 dir=\"rtl\"><b>تحلیل درصد مقادیر گمشده</b></h3>\n",
    "<p dir=\"rtl\">خروجی ارائه شده، دیدگاهی جامع از داده‌های گمشده در تمامی ستون‌های دیتافریم <code>divarDf_dropUnnamed</code> را به صورت درصد از کل ردیف‌ها ارائه می‌دهد. درک این درصدها برای تعیین استراتژی‌های مناسب تکمیل (Imputation) یا حذف داده‌ها بسیار حیاتی است، که مستقیماً بر کیفیت تحلیل‌های آماری و مدل‌های یادگیری ماشین آتی تأثیر می‌گذارد.</p>\n",
    "\n"
   ]
  },
  {
   "cell_type": "code",
   "execution_count": 138,
   "id": "3ceeb3dc",
   "metadata": {},
   "outputs": [
    {
     "data": {
      "text/plain": [
       "cat2_slug                      0.0000\n",
       "cat3_slug                      0.0001\n",
       "city_slug                      0.0002\n",
       "neighborhood_slug             56.2861\n",
       "created_at_month               0.0000\n",
       "user_type                     71.1118\n",
       "description                    0.0000\n",
       "title                          0.0054\n",
       "rent_mode                     64.7006\n",
       "rent_value                    64.8678\n",
       "rent_to_single                99.9981\n",
       "rent_type                     89.6039\n",
       "price_mode                    42.6394\n",
       "price_value                   43.1654\n",
       "credit_mode                   64.7006\n",
       "credit_value                  64.7905\n",
       "rent_credit_transform         64.7015\n",
       "transformable_price           64.7106\n",
       "transformable_credit          64.7915\n",
       "transformed_credit            92.7591\n",
       "transformable_rent            64.8752\n",
       "transformed_rent              92.7591\n",
       "land_size                     81.3604\n",
       "building_size                  1.9606\n",
       "deed_type                     74.6542\n",
       "has_business_deed             96.5321\n",
       "floor                         45.8252\n",
       "rooms_count                   15.4101\n",
       "total_floors_count            69.5648\n",
       "unit_per_floor                69.7717\n",
       "has_balcony                   49.3589\n",
       "has_elevator                  45.8251\n",
       "has_warehouse                 27.1845\n",
       "has_parking                   27.1844\n",
       "construction_year             18.4172\n",
       "is_rebuilt                    47.0530\n",
       "has_water                     96.6556\n",
       "has_warm_water_provider       62.0500\n",
       "has_electricity               96.6555\n",
       "has_gas                       96.6570\n",
       "has_heating_system            63.1031\n",
       "has_cooling_system            64.9381\n",
       "has_restroom                  59.3087\n",
       "has_security_guard            96.8688\n",
       "has_barbecue                  96.8802\n",
       "building_direction            67.6077\n",
       "has_pool                      97.0610\n",
       "has_jacuzzi                   97.1272\n",
       "has_sauna                     97.1521\n",
       "floor_material                59.4016\n",
       "property_type                 97.2943\n",
       "regular_person_capacity       97.0130\n",
       "extra_person_capacity         97.5991\n",
       "cost_per_extra_person         98.9759\n",
       "rent_price_on_regular_days    98.1932\n",
       "rent_price_on_special_days    98.9537\n",
       "rent_price_at_weekends        98.6449\n",
       "location_latitude             34.4392\n",
       "location_longitude            34.4392\n",
       "location_radius               66.0301\n",
       "dtype: float64"
      ]
     },
     "execution_count": 138,
     "metadata": {},
     "output_type": "execute_result"
    }
   ],
   "source": [
    "missing_percentage = divarDf_dropUnnamed.isna().sum() / len(divarDf_dropUnnamed) * 100\n",
    "missing_percentage\n",
    "# missing_ratio = divarDf_dropUnnamed.isna().sum().mean()"
   ]
  },
  {
   "cell_type": "markdown",
   "id": "c2d220c1",
   "metadata": {},
   "source": [
    "<h4 dir=\"rtl\">مشاهدات کلیدی:</h4>\n",
    "<ul dir=\"rtl\">\n",
    "    <li><b>درصد بسیار بالای داده‌های گمشده (بیش از 90%):</b>\n",
    "        <ul dir=\"rtl\">\n",
    "            <li><code>rent_to_single</code> (99.9981%): این ستون تقریباً کاملاً خالی است و کارایی محدودی دارد و باید حذف شود.</li>\n",
    "            <li><code>transformed_credit</code> (92.7591%), <code>transformed_rent</code> (92.7591%), <code>has_business_deed</code> (96.5321%), <code>has_water</code> (96.6556%), <code>has_electricity</code> (96.6555%), <code>has_gas</code> (96.6570%), <code>has_security_guard</code> (96.8688%), <code>has_barbecue</code> (96.8802%), <code>has_pool</code> (97.0610%), <code>has_jacuzzi</code> (97.1272%), <code>has_sauna</code> (97.1521%), <code>property_type</code> (97.2943%), <code>regular_person_capacity</code> (97.0130%), <code>extra_person_capacity</code> (97.5991%), <code>cost_per_extra_person</code> (98.9759%), <code>rent_price_on_regular_days</code> (98.1932%), <code>rent_price_on_special_days</code> (98.9537%), <code>rent_price_at_weekends</code> (98.6449%), <code>rent_type</code> (89.6039%).</li>\n",
    "            <li>بسیاری از این ستون‌ها (مانند امکانات رفاهی، اطلاعات اجاره روزانه/هفتگی، سند تجاری) احتمالاً به دلیل اینکه فقط برای بخش بسیار کوچکی از املاک قابل استفاده هستند یا اطلاعات به طور معمول ارائه نمی‌شود، دارای داده‌های پراکنده هستند. در حالی که ستون‌های بسیار پراکنده ممکن است کاندیدای حذف باشند، برخی (مانند <code>transformed_credit</code> و <code>transformed_rent</code>) برای وظیفه پیش‌بینی قیمت حیاتی هستند و نیاز به رسیدگی تخصصی دارند، زیرا گمشده بودن آنها نشان دهنده این است که ملک برای فروش است نه اجاره.</li>\n",
    "        </ul>\n",
    "    </li>\n",
    "    <li><b>درصد قابل توجه داده‌های گمشده (بین 40% تا 90%):</b>\n",
    "        <ul dir=\"rtl\">\n",
    "            <li><code>neighborhood_slug</code> (56.2861%), <code>user_type</code> (71.1118%), <code>rent_mode</code> (64.7006%), <code>rent_value</code> (64.8678%), <code>price_mode</code> (42.6394%), <code>price_value</code> (43.1654%), <code>credit_mode</code> (64.7006%), <code>credit_value</code> (64.7905%), <code>rent_credit_transform</code> (64.7015%), <code>transformable_price</code> (64.7106%), <code>transformable_credit</code> (64.7915%), <code>land_size</code> (81.3604%), <code>deed_type</code> (74.6542%), <code>floor</code> (45.8252%), <code>total_floors_count</code> (69.5648%), <code>unit_per_floor</code> (69.7717%), <code>has_balcony</code> (49.3589%), <code>has_elevator</code> (45.8251%), <code>has_warm_water_provider</code> (62.0500%), <code>has_heating_system</code> (63.1031%), <code>has_cooling_system</code> (64.9381%), <code>has_restroom</code> (59.3087%), <code>building_direction</code> (67.6077%), <code>floor_material</code> (59.4016%), <code>location_radius</code> (66.0301%).</li>\n",
    "            <li>این گروه یک چالش بزرگ را نشان می‌دهد. بسیاری از این موارد به جزئیات اجاره/فروش مربوط می‌شوند، که اغلب به این معنی است که اگر ملکی برای فروش باشد، مقادیر مربوط به اجاره آن گمشده خواهند بود و بالعکس. این امر مستلزم یک رویکرد استراتژیک برای تکمیل داده‌ها (Imputation) است، که احتمالاً با پر کردن '0' یا 'غیر قابل استفاده' و شاید ایجاد ویژگی‌های نشانگر (indicator features) همراه باشد. برای ستون‌های طبقه‌بندی شده مانند <code>neighborhood_slug</code> یا <code>user_type</code>، تکمیل با یک دسته جدید مانند 'ناشناخته' یا 'گمشده' یک استراتژی رایج است.</li>\n",
    "        </ul>\n",
    "    </li>\n",
    "    <li><b>درصد متوسط داده‌های گمشده (کمتر از 20%):</b>\n",
    "        <ul dir=\"rtl\">\n",
    "            <li><code>building_size</code> (1.9606%), <code>rooms_count</code> (15.4101%), <code>construction_year</code> (18.4172%), <code>location_latitude</code> (34.4392%), <code>location_longitude</code> (34.4392%).</li>\n",
    "            <li>این ستون‌ها مقدار قابل کنترلی از داده‌های گمشده دارند. برای ویژگی‌های عددی مانند <code>building_size</code>، <code>rooms_count</code> و <code>construction_year</code>، تکمیل با میانه یا میانگین (بسته به توزیع) گزینه مناسبی است. برای مختصات جغرافیایی، تکمیل ساده ممکن است کمتر مؤثر باشد؛ با این حال، با توجه به تأکید پروژه بر تحلیل فضایی، این موارد نیاز به توجه دقیق دارند.</li>\n",
    "        </ul>\n",
    "    </li>\n",
    "    <li><b>درصد ناچیز داده‌های گمشده (کمتر از 0.1%):</b>\n",
    "        <ul dir=\"rtl\">\n",
    "            <li><code>cat2_slug</code>, <code>cat3_slug</code>, <code>city_slug</code>, <code>created_at_month</code>, <code>description</code>, <code>title</code>.</li>\n",
    "            <li>این ستون‌ها تقریباً کامل هستند و نیاز به حداقل رسیدگی به مقادیر گمشده دارند.</li>\n",
    "        </ul>\n",
    "    </li>\n",
    "</ul>"
   ]
  },
  {
   "cell_type": "code",
   "execution_count": 139,
   "id": "dc34c12b",
   "metadata": {},
   "outputs": [
    {
     "name": "stdout",
     "output_type": "stream",
     "text": [
      "columns_to_drop :  ['rent_to_single']\n"
     ]
    }
   ],
   "source": [
    "columns_to_drop = missing_percentage[missing_percentage > 99.9].index.tolist()\n",
    "print(\"columns_to_drop : \",columns_to_drop)\n"
   ]
  },
  {
   "cell_type": "code",
   "execution_count": 140,
   "id": "de48158f",
   "metadata": {},
   "outputs": [
    {
     "name": "stdout",
     "output_type": "stream",
     "text": [
      "has_columns_to_drop :  Index(['has_business_deed', 'has_water', 'has_electricity', 'has_gas',\n",
      "       'has_security_guard', 'has_barbecue', 'has_pool', 'has_jacuzzi',\n",
      "       'has_sauna'],\n",
      "      dtype='object')\n"
     ]
    }
   ],
   "source": [
    "has_columns_to_drop = missing_percentage[missing_percentage > 90].index\n",
    "print(\"has_columns_to_drop : \",has_columns_to_drop[has_columns_to_drop.str.startswith(\"has_\")])"
   ]
  },
  {
   "cell_type": "markdown",
   "id": "59055c4c",
   "metadata": {},
   "source": [
    "<p>\n",
    "Based on the project documentation, the following columns are not used in any analysis and should be removed:\n",
    "</p>\n",
    "<ul>\n",
    "  <li><code>has_water</code></li>\n",
    "  <li><code>has_electricity</code></li>\n",
    "  <li><code>has_gas</code></li>\n",
    "  <li><code>rent_to_single</code></li>\n",
    "</ul>\n"
   ]
  },
  {
   "cell_type": "code",
   "execution_count": 141,
   "id": "d49db832",
   "metadata": {},
   "outputs": [],
   "source": [
    "divarDf_cleaned = divarDf_dropUnnamed.drop(columns=columns_to_drop + [\"has_gas\",\"has_water\",\"has_electricity\"])"
   ]
  },
  {
   "cell_type": "code",
   "execution_count": 142,
   "id": "c92ca70b",
   "metadata": {},
   "outputs": [
    {
     "name": "stdout",
     "output_type": "stream",
     "text": [
      "has_business_deed\n",
      "False    0.502552\n",
      "True     0.497448\n",
      "Name: proportion, dtype: float64 \n",
      "\n",
      "has_balcony\n",
      "true        0.774264\n",
      "false       0.175460\n",
      "True        0.040860\n",
      "False       0.008975\n",
      "unselect    0.000440\n",
      "Name: proportion, dtype: float64 \n",
      "\n",
      "has_elevator\n",
      "True     0.674017\n",
      "False    0.325983\n",
      "Name: proportion, dtype: float64 \n",
      "\n",
      "has_warehouse\n",
      "True     0.79971\n",
      "False    0.20029\n",
      "Name: proportion, dtype: float64 \n",
      "\n",
      "has_parking\n",
      "True     0.758824\n",
      "False    0.241176\n",
      "Name: proportion, dtype: float64 \n",
      "\n",
      "has_warm_water_provider\n",
      "package         0.541874\n",
      "water_heater    0.371758\n",
      "powerhouse      0.082727\n",
      "unselect        0.003642\n",
      "Name: proportion, dtype: float64 \n",
      "\n",
      "has_heating_system\n",
      "shoofaj          0.545726\n",
      "heater           0.324610\n",
      "duct_split       0.059753\n",
      "floor_heating    0.020915\n",
      "split            0.015841\n",
      "fan_coil         0.013727\n",
      "fireplace        0.010977\n",
      "unselect         0.008451\n",
      "Name: proportion, dtype: float64 \n",
      "\n",
      "has_cooling_system\n",
      "water_cooler       0.625368\n",
      "air_conditioner    0.149282\n",
      "split              0.110399\n",
      "duct_split         0.083775\n",
      "unselect           0.016876\n",
      "fan_coil           0.014300\n",
      "Name: proportion, dtype: float64 \n",
      "\n",
      "has_restroom\n",
      "squat_seat    0.539164\n",
      "squat         0.440971\n",
      "seat          0.018321\n",
      "unselect      0.001543\n",
      "Name: proportion, dtype: float64 \n",
      "\n",
      "has_security_guard\n",
      "False    0.786631\n",
      "True     0.213369\n",
      "Name: proportion, dtype: float64 \n",
      "\n",
      "has_barbecue\n",
      "False    0.749311\n",
      "True     0.250689\n",
      "Name: proportion, dtype: float64 \n",
      "\n",
      "has_pool\n",
      "False    0.873392\n",
      "True     0.126608\n",
      "Name: proportion, dtype: float64 \n",
      "\n",
      "has_jacuzzi\n",
      "False    0.920879\n",
      "True     0.079121\n",
      "Name: proportion, dtype: float64 \n",
      "\n",
      "has_sauna\n",
      "False    0.951017\n",
      "True     0.048983\n",
      "Name: proportion, dtype: float64 \n",
      "\n"
     ]
    }
   ],
   "source": [
    "\n",
    "\n",
    "has_columns = divarDf_cleaned.filter(like=\"has_\").columns\n",
    "\n",
    "for col in has_columns:\n",
    "    # print(f\"missing_percentage : {missing_percentage[col]}\")\n",
    "    print(divarDf_cleaned[col].value_counts(normalize=True),\"\\n\")\n"
   ]
  },
  {
   "cell_type": "code",
   "execution_count": 143,
   "id": "1b65a192",
   "metadata": {},
   "outputs": [
    {
     "name": "stdout",
     "output_type": "stream",
     "text": [
      "has_business_deed\n",
      "False    0.502552\n",
      "True     0.497448\n",
      "Name: proportion, dtype: float64 \n",
      "\n",
      "has_balcony\n",
      "True     0.815484\n",
      "False    0.184516\n",
      "Name: proportion, dtype: float64 \n",
      "\n",
      "has_elevator\n",
      "True     0.674017\n",
      "False    0.325983\n",
      "Name: proportion, dtype: float64 \n",
      "\n",
      "has_warehouse\n",
      "True     0.79971\n",
      "False    0.20029\n",
      "Name: proportion, dtype: float64 \n",
      "\n",
      "has_parking\n",
      "True     0.758824\n",
      "False    0.241176\n",
      "Name: proportion, dtype: float64 \n",
      "\n",
      "has_warm_water_provider\n",
      "package         0.543854\n",
      "water_heater    0.373116\n",
      "powerhouse      0.083030\n",
      "Name: proportion, dtype: float64 \n",
      "\n",
      "has_heating_system\n",
      "shoofaj          0.550377\n",
      "heater           0.327376\n",
      "duct_split       0.060262\n",
      "floor_heating    0.021093\n",
      "split            0.015976\n",
      "fan_coil         0.013844\n",
      "fireplace        0.011070\n",
      "Name: proportion, dtype: float64 \n",
      "\n",
      "has_cooling_system\n",
      "water_cooler       0.636103\n",
      "air_conditioner    0.151844\n",
      "split              0.112294\n",
      "duct_split         0.085213\n",
      "fan_coil           0.014546\n",
      "Name: proportion, dtype: float64 \n",
      "\n",
      "has_restroom\n",
      "squat_seat    0.539998\n",
      "squat         0.441653\n",
      "seat          0.018349\n",
      "Name: proportion, dtype: float64 \n",
      "\n",
      "has_security_guard\n",
      "False    0.786631\n",
      "True     0.213369\n",
      "Name: proportion, dtype: float64 \n",
      "\n",
      "has_barbecue\n",
      "False    0.749311\n",
      "True     0.250689\n",
      "Name: proportion, dtype: float64 \n",
      "\n",
      "has_pool\n",
      "False    0.873392\n",
      "True     0.126608\n",
      "Name: proportion, dtype: float64 \n",
      "\n",
      "has_jacuzzi\n",
      "False    0.920879\n",
      "True     0.079121\n",
      "Name: proportion, dtype: float64 \n",
      "\n",
      "has_sauna\n",
      "False    0.951017\n",
      "True     0.048983\n",
      "Name: proportion, dtype: float64 \n",
      "\n"
     ]
    }
   ],
   "source": [
    "\n",
    "std_map = {\n",
    "    'true': True,\n",
    "    'false': False,\n",
    "    'True': True,\n",
    "    'False': False,\n",
    "    'unselect': np.nan\n",
    "}\n",
    "divarDf_cleaned[has_columns] = divarDf_cleaned[has_columns].replace(std_map)\n",
    "for col in has_columns:\n",
    "    print(divarDf_cleaned[col].value_counts(normalize=True),\"\\n\")"
   ]
  },
  {
   "cell_type": "code",
   "execution_count": 144,
   "id": "970096e9",
   "metadata": {},
   "outputs": [
    {
     "data": {
      "text/plain": [
       "'\\nhas_business_deed, has_balcony, has_elevator, has_warehouse, has_parking, has_security_guard, \\nhas_barbecue, has_pool, has_jacuzzi, has_sauna -> boolean Type\\n\\nhas_warm_water_provider, has_heating_system, has_cooling_system, has_restroom -> categorical Type\\n\\n'"
      ]
     },
     "execution_count": 144,
     "metadata": {},
     "output_type": "execute_result"
    }
   ],
   "source": [
    "\"\"\"\n",
    "has_business_deed, has_balcony, has_elevator, has_warehouse, has_parking, has_security_guard, \n",
    "has_barbecue, has_pool, has_jacuzzi, has_sauna -> boolean Type\n",
    "\n",
    "has_warm_water_provider, has_heating_system, has_cooling_system, has_restroom -> categorical Type\n",
    "\n",
    "\"\"\"\n",
    "# for col in has_columns:\n",
    "#     missing_ratio = divarDf_cleaned[col].isna().mean()\n",
    "#     if missing_ratio > 0.3:\n",
    "#         mode_val = divarDf_cleaned[col].mode(dropna=True)\n",
    "#         print(col)\n",
    "#         print(mode_val)\n",
    "#         if not mode_val.empty:\n",
    "#             divarDf_cleaned[col] = divarDf_cleaned[col].fillna(mode_val[0]).infer_objects()\n"
   ]
  },
  {
   "cell_type": "code",
   "execution_count": 145,
   "id": "8800040c",
   "metadata": {},
   "outputs": [
    {
     "data": {
      "text/plain": [
       "0         66.071429\n",
       "1         67.857143\n",
       "2         55.357143\n",
       "3         60.714286\n",
       "4         53.571429\n",
       "            ...    \n",
       "999995    66.071429\n",
       "999996    48.214286\n",
       "999997    73.214286\n",
       "999998    76.785714\n",
       "999999    32.142857\n",
       "Length: 1000000, dtype: float64"
      ]
     },
     "execution_count": 145,
     "metadata": {},
     "output_type": "execute_result"
    }
   ],
   "source": [
    "row_missing_percentage = divarDf_cleaned.isna().sum(axis=1) / len(divarDf_cleaned.columns) * 100\n",
    "row_missing_percentage"
   ]
  },
  {
   "cell_type": "code",
   "execution_count": 146,
   "id": "3300e6fa",
   "metadata": {},
   "outputs": [],
   "source": [
    "# print(len(divarDf_cleaned))\n",
    "# divarDf_cleaned = divarDf_cleaned[row_missing_percentage < 60]\n",
    "# print(len(divarDf_cleaned))"
   ]
  },
  {
   "cell_type": "code",
   "execution_count": 147,
   "id": "7b259a52",
   "metadata": {},
   "outputs": [
    {
     "name": "stdout",
     "output_type": "stream",
     "text": [
      "<class 'pandas.core.frame.DataFrame'>\n",
      "RangeIndex: 1000000 entries, 0 to 999999\n",
      "Data columns (total 14 columns):\n",
      " #   Column                   Non-Null Count   Dtype \n",
      "---  ------                   --------------   ----- \n",
      " 0   has_business_deed        34679 non-null   object\n",
      " 1   has_balcony              506188 non-null  object\n",
      " 2   has_elevator             541749 non-null  object\n",
      " 3   has_warehouse            728155 non-null  object\n",
      " 4   has_parking              728156 non-null  object\n",
      " 5   has_warm_water_provider  378118 non-null  object\n",
      " 6   has_heating_system       365851 non-null  object\n",
      " 7   has_cooling_system       344702 non-null  object\n",
      " 8   has_restroom             406285 non-null  object\n",
      " 9   has_security_guard       31312 non-null   object\n",
      " 10  has_barbecue             31198 non-null   object\n",
      " 11  has_pool                 29390 non-null   object\n",
      " 12  has_jacuzzi              28728 non-null   object\n",
      " 13  has_sauna                28479 non-null   object\n",
      "dtypes: object(14)\n",
      "memory usage: 106.8+ MB\n"
     ]
    }
   ],
   "source": [
    "divarDf_cleaned[has_columns].info()"
   ]
  },
  {
   "cell_type": "code",
   "execution_count": 148,
   "id": "02c8863f",
   "metadata": {},
   "outputs": [
    {
     "name": "stdout",
     "output_type": "stream",
     "text": [
      "<class 'pandas.core.frame.DataFrame'>\n",
      "RangeIndex: 1000000 entries, 0 to 999999\n",
      "Data columns (total 5 columns):\n",
      " #   Column              Non-Null Count   Dtype \n",
      "---  ------              --------------   ----- \n",
      " 0   rooms_count         845899 non-null  object\n",
      " 1   floor               541748 non-null  object\n",
      " 2   total_floors_count  304352 non-null  object\n",
      " 3   unit_per_floor      302283 non-null  object\n",
      " 4   construction_year   815828 non-null  object\n",
      "dtypes: object(5)\n",
      "memory usage: 38.1+ MB\n"
     ]
    }
   ],
   "source": [
    "cols_to_convert = [\n",
    "    'rooms_count', 'floor', 'total_floors_count',\n",
    "    'unit_per_floor', 'construction_year'\n",
    "]\n",
    "divarDf_cleaned[cols_to_convert].info() "
   ]
  },
  {
   "cell_type": "code",
   "execution_count": 149,
   "id": "03093ab3",
   "metadata": {},
   "outputs": [
    {
     "data": {
      "text/plain": [
       "rooms_count           0.154101\n",
       "floor                 0.458252\n",
       "total_floors_count    0.695648\n",
       "unit_per_floor        0.697717\n",
       "construction_year     0.184172\n",
       "dtype: float64"
      ]
     },
     "execution_count": 149,
     "metadata": {},
     "output_type": "execute_result"
    }
   ],
   "source": [
    "divarDf_cleaned[cols_to_convert].isna().mean()"
   ]
  },
  {
   "cell_type": "code",
   "execution_count": 150,
   "id": "8a98a479",
   "metadata": {},
   "outputs": [
    {
     "name": "stdout",
     "output_type": "stream",
     "text": [
      "rooms_count ['سه' 'یک' 'دو' 'بدون اتاق' nan 'چهار' 'پنج یا بیشتر']\n",
      "floor [nan '3' '4' '2' '1' '5' '0' '30' '6' '7' '8' '18' '12' '11' '10' '-1'\n",
      " '13' '9' '19' '16' '30+' '21' '15' '22' '14' '17' '20' '23' '25' '24'\n",
      " '26' '28' '29' '27' 3.0 2.0 4.0 1.0 0.0 20.0 5.0 7.0 6.0 18.0 8.0 -1.0\n",
      " 22.0 10.0 14.0 9.0 11.0]\n",
      "total_floors_count [nan '6' '3' '14' '5' '4' '2' '7' '8' '10' '11' '12' '17' '9' '25' '18'\n",
      " '19' '15' '16' '21' '20' '22' '13' '24' '30+' '29' '26' '30' 'unselect'\n",
      " '27' '23' '28' 4.0 5.0 6.0 2.0 3.0 14.0 25.0 8.0 7.0 20.0 11.0 10.0 12.0\n",
      " 13.0 21.0 19.0]\n",
      "unit_per_floor [nan '2' '4' '1' '3' '5' '6' '8' 'more_than_8' '7' 'unselect']\n",
      "construction_year [nan '۱۳۸۴' '۱۴۰۱' '۱۴۰۰' '۱۴۰۳' '۱۳۸۹' '۱۳۹۵' '۱۳۹۳' '۱۳۹۶' '۱۳۸۷' '۱۳۸۵'\n",
      " '۱۳۹۰' '۱۳۹۸' '۱۴۰۲' '۱۳۸۸' 'قبل از ۱۳۷۰' '۱۳۹۲' '۱۳۸۳' '۱۳۹۴' '۱۳۹۱'\n",
      " '۱۳۸۰' '۱۳۷۸' '۱۳۷۵' '۱۳۹۷' '۱۳۹۹' '۱۳۸۲' '۱۳۸۶' '۱۳۷۹' '۱۳۷۲' '۱۳۷۴'\n",
      " '۱۳۷۶' '۱۳۷۷' '۱۳۷۱' '۱۳۸۱' '۱۳۷۳']\n"
     ]
    }
   ],
   "source": [
    "for col in cols_to_convert:\n",
    "    print(col,divarDf_cleaned[col].unique())"
   ]
  },
  {
   "cell_type": "code",
   "execution_count": 151,
   "id": "9f62576c",
   "metadata": {},
   "outputs": [
    {
     "data": {
      "text/plain": [
       "array([  nan, 1384., 1401., 1400., 1403., 1389., 1395., 1393., 1396.,\n",
       "       1387., 1385., 1390., 1398., 1402., 1388., 1369., 1392., 1383.,\n",
       "       1394., 1391., 1380., 1378., 1375., 1397., 1399., 1382., 1386.,\n",
       "       1379., 1372., 1374., 1376., 1377., 1371., 1381., 1373.])"
      ]
     },
     "execution_count": 151,
     "metadata": {},
     "output_type": "execute_result"
    }
   ],
   "source": [
    "def persian_to_english(s):\n",
    "    if pd.isnull(s):\n",
    "        return s\n",
    "    mapping = str.maketrans(\"۰۱۲۳۴۵۶۷۸۹\", \"0123456789\")\n",
    "    return str(s).translate(mapping)\n",
    "\n",
    "# Apply to 'construction_year'\n",
    "divarDf_cleaned[\"construction_year\"] = divarDf_cleaned[\"construction_year\"].replace(\"قبل از ۱۳۷۰\", \"۱۳۶۹\")\n",
    "divarDf_cleaned[\"construction_year\"] = divarDf_cleaned[\"construction_year\"].apply(persian_to_english)\n",
    "\n",
    "# Convert to numeric\n",
    "divarDf_cleaned[\"construction_year\"] = pd.to_numeric(divarDf_cleaned[\"construction_year\"], errors=\"coerce\")\n",
    "\n",
    "divarDf_cleaned[\"construction_year\"].unique()\n"
   ]
  },
  {
   "cell_type": "code",
   "execution_count": 152,
   "id": "47f59cf1",
   "metadata": {},
   "outputs": [
    {
     "name": "stderr",
     "output_type": "stream",
     "text": [
      "/tmp/ipykernel_216630/2350664311.py:2: FutureWarning: Downcasting behavior in `replace` is deprecated and will be removed in a future version. To retain the old behavior, explicitly call `result.infer_objects(copy=False)`. To opt-in to the future behavior, set `pd.set_option('future.no_silent_downcasting', True)`\n",
      "  divarDf_cleaned[\"rooms_count\"] = divarDf_cleaned[\"rooms_count\"].replace(transformDic)\n"
     ]
    }
   ],
   "source": [
    "transformDic ={\"بدون اتاق\":0,\"یک\":1,\"دو\":2,\"سه\":3,\"چهار\":4,\"پنج یا بیشتر\":5}\n",
    "divarDf_cleaned[\"rooms_count\"] = divarDf_cleaned[\"rooms_count\"].replace(transformDic)"
   ]
  },
  {
   "cell_type": "code",
   "execution_count": 153,
   "id": "6c769028",
   "metadata": {},
   "outputs": [
    {
     "data": {
      "text/plain": [
       "<DatetimeArray>\n",
       "['2024-08-01 00:00:00', '2024-05-01 00:00:00', '2024-10-01 00:00:00',\n",
       " '2024-06-01 00:00:00', '2024-09-01 00:00:00', '2024-11-01 00:00:00',\n",
       " '2024-07-01 00:00:00', '2024-12-01 00:00:00', '2024-04-01 00:00:00',\n",
       " '2025-01-01 00:00:00', '2024-03-01 00:00:00', '2024-01-01 00:00:00',\n",
       " '2025-02-01 00:00:00', '2024-02-01 00:00:00', '2023-11-01 00:00:00',\n",
       " '2023-09-01 00:00:00', '2023-10-01 00:00:00', '2023-07-01 00:00:00',\n",
       " '2023-12-01 00:00:00', '2023-05-01 00:00:00', '2023-03-01 00:00:00',\n",
       " '2023-04-01 00:00:00', '2023-06-01 00:00:00', '2023-08-01 00:00:00',\n",
       " '2023-02-01 00:00:00', '2021-05-01 00:00:00', '2022-11-01 00:00:00',\n",
       " '2022-07-01 00:00:00', '2022-05-01 00:00:00', '2022-06-01 00:00:00',\n",
       " '2023-01-01 00:00:00', '2022-10-01 00:00:00', '2021-12-01 00:00:00',\n",
       " '2020-12-01 00:00:00', '2022-12-01 00:00:00', '2022-04-01 00:00:00',\n",
       " '2022-09-01 00:00:00', '2022-08-01 00:00:00', '2021-06-01 00:00:00',\n",
       " '2022-02-01 00:00:00', '2020-02-01 00:00:00', '2022-01-01 00:00:00',\n",
       " '2025-03-01 00:00:00', '2021-02-01 00:00:00', '2022-03-01 00:00:00',\n",
       " '2021-11-01 00:00:00']\n",
       "Length: 46, dtype: datetime64[ns]"
      ]
     },
     "execution_count": 153,
     "metadata": {},
     "output_type": "execute_result"
    }
   ],
   "source": [
    "divarDf_cleaned[\"created_at_month\"] = pd.to_datetime(divarDf_cleaned[\"created_at_month\"])\n",
    "divarDf_cleaned[\"created_at_month\"].unique()\n"
   ]
  },
  {
   "cell_type": "code",
   "execution_count": 154,
   "id": "c343c0c6",
   "metadata": {},
   "outputs": [
    {
     "data": {
      "text/html": [
       "<div>\n",
       "<style scoped>\n",
       "    .dataframe tbody tr th:only-of-type {\n",
       "        vertical-align: middle;\n",
       "    }\n",
       "\n",
       "    .dataframe tbody tr th {\n",
       "        vertical-align: top;\n",
       "    }\n",
       "\n",
       "    .dataframe thead th {\n",
       "        text-align: right;\n",
       "    }\n",
       "</style>\n",
       "<table border=\"1\" class=\"dataframe\">\n",
       "  <thead>\n",
       "    <tr style=\"text-align: right;\">\n",
       "      <th></th>\n",
       "      <th>cat2_slug</th>\n",
       "      <th>cat3_slug</th>\n",
       "      <th>city_slug</th>\n",
       "      <th>neighborhood_slug</th>\n",
       "      <th>created_at_month</th>\n",
       "      <th>user_type</th>\n",
       "      <th>description</th>\n",
       "      <th>title</th>\n",
       "      <th>rent_mode</th>\n",
       "      <th>rent_value</th>\n",
       "      <th>...</th>\n",
       "      <th>regular_person_capacity</th>\n",
       "      <th>extra_person_capacity</th>\n",
       "      <th>cost_per_extra_person</th>\n",
       "      <th>rent_price_on_regular_days</th>\n",
       "      <th>rent_price_on_special_days</th>\n",
       "      <th>rent_price_at_weekends</th>\n",
       "      <th>location_latitude</th>\n",
       "      <th>location_longitude</th>\n",
       "      <th>location_radius</th>\n",
       "      <th>shamsi_year</th>\n",
       "    </tr>\n",
       "  </thead>\n",
       "  <tbody>\n",
       "    <tr>\n",
       "      <th>1</th>\n",
       "      <td>residential-sell</td>\n",
       "      <td>apartment-sell</td>\n",
       "      <td>tehran</td>\n",
       "      <td>gholhak</td>\n",
       "      <td>2024-05-01</td>\n",
       "      <td>مشاور املاک</td>\n",
       "      <td>دسترسی عالی به مترو و شریعتی \\nمشاعات تمیز \\nب...</td>\n",
       "      <td>۶۰ متر قلهک فول امکانات</td>\n",
       "      <td>NaN</td>\n",
       "      <td>NaN</td>\n",
       "      <td>...</td>\n",
       "      <td>NaN</td>\n",
       "      <td>NaN</td>\n",
       "      <td>NaN</td>\n",
       "      <td>NaN</td>\n",
       "      <td>NaN</td>\n",
       "      <td>NaN</td>\n",
       "      <td>NaN</td>\n",
       "      <td>NaN</td>\n",
       "      <td>500.0</td>\n",
       "      <td>1403</td>\n",
       "    </tr>\n",
       "    <tr>\n",
       "      <th>4</th>\n",
       "      <td>residential-sell</td>\n",
       "      <td>apartment-sell</td>\n",
       "      <td>mashhad</td>\n",
       "      <td>emamreza</td>\n",
       "      <td>2024-05-01</td>\n",
       "      <td>مشاور املاک</td>\n",
       "      <td>هلدینگ ساختمانی اکبری\\n\\nهمراه شما هستیم برای ...</td>\n",
       "      <td>۱۱۵ متری/شمالی رو به آفتاب/اکبری</td>\n",
       "      <td>NaN</td>\n",
       "      <td>NaN</td>\n",
       "      <td>...</td>\n",
       "      <td>NaN</td>\n",
       "      <td>NaN</td>\n",
       "      <td>NaN</td>\n",
       "      <td>NaN</td>\n",
       "      <td>NaN</td>\n",
       "      <td>NaN</td>\n",
       "      <td>NaN</td>\n",
       "      <td>NaN</td>\n",
       "      <td>NaN</td>\n",
       "      <td>1403</td>\n",
       "    </tr>\n",
       "  </tbody>\n",
       "</table>\n",
       "<p>2 rows × 57 columns</p>\n",
       "</div>"
      ],
      "text/plain": [
       "          cat2_slug       cat3_slug city_slug neighborhood_slug  \\\n",
       "1  residential-sell  apartment-sell    tehran           gholhak   \n",
       "4  residential-sell  apartment-sell   mashhad          emamreza   \n",
       "\n",
       "  created_at_month    user_type  \\\n",
       "1       2024-05-01  مشاور املاک   \n",
       "4       2024-05-01  مشاور املاک   \n",
       "\n",
       "                                         description  \\\n",
       "1  دسترسی عالی به مترو و شریعتی \\nمشاعات تمیز \\nب...   \n",
       "4  هلدینگ ساختمانی اکبری\\n\\nهمراه شما هستیم برای ...   \n",
       "\n",
       "                              title rent_mode  rent_value  ...  \\\n",
       "1           ۶۰ متر قلهک فول امکانات       NaN         NaN  ...   \n",
       "4  ۱۱۵ متری/شمالی رو به آفتاب/اکبری       NaN         NaN  ...   \n",
       "\n",
       "  regular_person_capacity extra_person_capacity  cost_per_extra_person  \\\n",
       "1                     NaN                   NaN                    NaN   \n",
       "4                     NaN                   NaN                    NaN   \n",
       "\n",
       "  rent_price_on_regular_days  rent_price_on_special_days  \\\n",
       "1                        NaN                         NaN   \n",
       "4                        NaN                         NaN   \n",
       "\n",
       "  rent_price_at_weekends location_latitude  location_longitude  \\\n",
       "1                    NaN               NaN                 NaN   \n",
       "4                    NaN               NaN                 NaN   \n",
       "\n",
       "   location_radius  shamsi_year  \n",
       "1            500.0         1403  \n",
       "4              NaN         1403  \n",
       "\n",
       "[2 rows x 57 columns]"
      ]
     },
     "execution_count": 154,
     "metadata": {},
     "output_type": "execute_result"
    }
   ],
   "source": [
    "def to_shamsi_year(gdate):\n",
    "    if pd.isnull(gdate):\n",
    "        return None\n",
    "    jdate = jdatetime.date.fromgregorian(date=gdate)\n",
    "    return jdate.year\n",
    "\n",
    "divarDf_shamsi = divarDf_cleaned.copy()\n",
    "divarDf_shamsi[\"shamsi_year\"] = divarDf_shamsi[\"created_at_month\"].apply(to_shamsi_year)\n",
    "price_df = divarDf_shamsi[\n",
    "    divarDf_shamsi[\"shamsi_year\"].isin([1400, 1401, 1402, 1403]) & \n",
    "    divarDf_shamsi[\"price_value\"].notna()\n",
    "]\n",
    "price_df.head(2)"
   ]
  },
  {
   "cell_type": "code",
   "execution_count": 155,
   "id": "a1d62a4f",
   "metadata": {},
   "outputs": [
    {
     "name": "stdout",
     "output_type": "stream",
     "text": [
      "shamsi_year\n",
      "1400    1.066667e+09\n",
      "1401    1.882049e+10\n",
      "1402    7.918916e+09\n",
      "1403    1.743388e+10\n",
      "Name: price_value, dtype: float64\n"
     ]
    },
    {
     "data": {
      "text/html": [
       "<div>\n",
       "<style scoped>\n",
       "    .dataframe tbody tr th:only-of-type {\n",
       "        vertical-align: middle;\n",
       "    }\n",
       "\n",
       "    .dataframe tbody tr th {\n",
       "        vertical-align: top;\n",
       "    }\n",
       "\n",
       "    .dataframe thead th {\n",
       "        text-align: right;\n",
       "    }\n",
       "</style>\n",
       "<table border=\"1\" class=\"dataframe\">\n",
       "  <thead>\n",
       "    <tr style=\"text-align: right;\">\n",
       "      <th></th>\n",
       "      <th>year</th>\n",
       "      <th>nominal_price</th>\n",
       "    </tr>\n",
       "  </thead>\n",
       "  <tbody>\n",
       "    <tr>\n",
       "      <th>0</th>\n",
       "      <td>1400</td>\n",
       "      <td>1.066667e+09</td>\n",
       "    </tr>\n",
       "    <tr>\n",
       "      <th>1</th>\n",
       "      <td>1401</td>\n",
       "      <td>1.882049e+10</td>\n",
       "    </tr>\n",
       "    <tr>\n",
       "      <th>2</th>\n",
       "      <td>1402</td>\n",
       "      <td>7.918916e+09</td>\n",
       "    </tr>\n",
       "    <tr>\n",
       "      <th>3</th>\n",
       "      <td>1403</td>\n",
       "      <td>1.743388e+10</td>\n",
       "    </tr>\n",
       "  </tbody>\n",
       "</table>\n",
       "</div>"
      ],
      "text/plain": [
       "   year  nominal_price\n",
       "0  1400   1.066667e+09\n",
       "1  1401   1.882049e+10\n",
       "2  1402   7.918916e+09\n",
       "3  1403   1.743388e+10"
      ]
     },
     "execution_count": 155,
     "metadata": {},
     "output_type": "execute_result"
    }
   ],
   "source": [
    "avg_price_by_year = price_df.groupby(\"shamsi_year\")[\"price_value\"].mean()\n",
    "print(avg_price_by_year)\n",
    "avg_price_by_year = avg_price_by_year.reset_index() # Generate a new DataFrame or Series with the index reset.\n",
    "avg_price_by_year.columns = [\"year\", \"nominal_price\"]\n",
    "avg_price_by_year"
   ]
  },
  {
   "cell_type": "code",
   "execution_count": 156,
   "id": "b32198ae",
   "metadata": {},
   "outputs": [
    {
     "name": "stdout",
     "output_type": "stream",
     "text": [
      "   year  nominal_price  inflation_index  real_price\n",
      "0  1400       1.066667         1.000000    1.066667\n",
      "1  1401      18.820486        17.644206    1.066667\n",
      "2  1402       7.918916         7.423984    1.066667\n",
      "3  1403      17.433879        16.344261    1.066667\n"
     ]
    }
   ],
   "source": [
    "base_year = 1400\n",
    "base_price = avg_price_by_year.loc[avg_price_by_year[\"year\"] == base_year, \"nominal_price\"].values[0]\n",
    "avg_price_by_year[\"inflation_index\"] = avg_price_by_year[\"nominal_price\"] / base_price\n",
    "avg_price_by_year[\"real_price\"] = avg_price_by_year[\"nominal_price\"] / avg_price_by_year[\"inflation_index\"]\n",
    "avg_price_by_year[\"nominal_price\"] = avg_price_by_year[\"nominal_price\"] / 1e9\n",
    "avg_price_by_year[\"real_price\"] = avg_price_by_year[\"real_price\"] / 1e9\n",
    "print(avg_price_by_year)"
   ]
  },
  {
   "cell_type": "code",
   "execution_count": 157,
   "id": "e37f8a3f",
   "metadata": {},
   "outputs": [
    {
     "name": "stdout",
     "output_type": "stream",
     "text": [
      "   year     price_type      price\n",
      "0  1400  nominal_price   1.066667\n",
      "1  1401  nominal_price  18.820486\n",
      "2  1402  nominal_price   7.918916\n",
      "3  1403  nominal_price  17.433879\n",
      "4  1400     real_price   1.066667\n",
      "5  1401     real_price   1.066667\n",
      "6  1402     real_price   1.066667\n",
      "7  1403     real_price   1.066667\n"
     ]
    },
    {
     "data": {
      "text/plain": [
       "Text(0, 0.5, 'Price (\\u200cBillion Toman)')"
      ]
     },
     "execution_count": 157,
     "metadata": {},
     "output_type": "execute_result"
    },
    {
     "data": {
      "image/png": "[encoded data removed]",
      "text/plain": [
       "<Figure size 1000x600 with 1 Axes>"
      ]
     },
     "metadata": {},
     "output_type": "display_data"
    }
   ],
   "source": [
    "\n",
    "\n",
    "plot_df = avg_price_by_year.melt(\n",
    "    id_vars=\"year\",\n",
    "    value_vars=[\"nominal_price\", \"real_price\"],\n",
    "    var_name=\"price_type\",\n",
    "    value_name=\"price\"\n",
    ")\n",
    "print(plot_df)\n",
    "# Plot\n",
    "# print(plt.style.available)\n",
    "sns.set_theme()\n",
    "fig,ax = plt.subplots(figsize=(10, 6))\n",
    "sns.lineplot(data=plot_df, x=\"year\", y=\"price\", hue=\"price_type\", marker=\"o\",ax=ax)\n",
    "ax.set_xticks([1400, 1401, 1402, 1403])\n",
    "ax.set_title(\"Average Real vs Nominal Prices(1400–1403)\", fontsize=14)\n",
    "ax.set_xlabel(\"Shamsi Year\")\n",
    "ax.set_ylabel(\"Price (‌Billion Toman)\")\n"
   ]
  },
  {
   "cell_type": "code",
   "execution_count": 158,
   "id": "4aa99efe",
   "metadata": {},
   "outputs": [
    {
     "name": "stdout",
     "output_type": "stream",
     "text": [
      "price_value                0.431654\n",
      "land_size                  0.813604\n",
      "building_size              0.019606\n",
      "regular_person_capacity    0.970130\n",
      "rooms_count                0.154101\n",
      "location_latitude          0.344392\n",
      "location_longitude         0.344392\n",
      "dtype: float64\n",
      "Empty DataFrame\n",
      "Columns: [price_value, land_size, building_size, regular_person_capacity, rooms_count, location_latitude, location_longitude]\n",
      "Index: []\n"
     ]
    }
   ],
   "source": [
    "cols = [\n",
    "    \"price_value\", \"land_size\", \"building_size\",\n",
    "    \"regular_person_capacity\", \"rooms_count\",\n",
    "    \"location_latitude\", \"location_longitude\"\n",
    "]\n",
    "\n",
    "corr_matrix = divarDf_shamsi[cols].copy()\n",
    "print(corr_matrix.isna().mean())\n",
    "print(corr_matrix.dropna())\n"
   ]
  },
  {
   "cell_type": "code",
   "execution_count": 159,
   "id": "d487b6f8",
   "metadata": {},
   "outputs": [
    {
     "data": {
      "text/plain": [
       "<Axes: >"
      ]
     },
     "execution_count": 159,
     "metadata": {},
     "output_type": "execute_result"
    },
    {
     "data": {
      "image/png": "[encoded data removed]",
      "text/plain": [
       "<Figure size 640x480 with 1 Axes>"
      ]
     },
     "metadata": {},
     "output_type": "display_data"
    }
   ],
   "source": [
    "corr_matrix.regular_person_capacity.plot(kind=\"box\")"
   ]
  },
  {
   "cell_type": "code",
   "execution_count": 161,
   "id": "926de32b",
   "metadata": {},
   "outputs": [
    {
     "data": {
      "text/plain": [
       "Text(0.5, 1.0, 'correlation heatmap')"
      ]
     },
     "execution_count": 161,
     "metadata": {},
     "output_type": "execute_result"
    },
    {
     "data": {
      "image/png": "[encoded data removed]",
      "text/plain": [
       "<Figure size 800x600 with 2 Axes>"
      ]
     },
     "metadata": {},
     "output_type": "display_data"
    }
   ],
   "source": [
    "fig1, ax1 = plt.subplots(figsize=(8,6)) # To-Do\n",
    "sns.heatmap(data=corr_matrix.corr(\"spearman\"),ax=ax1,cmap=\"jet\")\n",
    "ax1.set_title(\"correlation heatmap\")"
   ]
  }
 ],
 "metadata": {
  "kernelspec": {
   "display_name": "venv",
   "language": "python",
   "name": "python3"
  },
  "language_info": {
   "codemirror_mode": {
    "name": "ipython",
    "version": 3
   },
   "file_extension": ".py",
   "mimetype": "text/x-python",
   "name": "python",
   "nbconvert_exporter": "python",
   "pygments_lexer": "ipython3",
   "version": "3.12.7"
  }
 },
 "nbformat": 4,
 "nbformat_minor": 5
}
